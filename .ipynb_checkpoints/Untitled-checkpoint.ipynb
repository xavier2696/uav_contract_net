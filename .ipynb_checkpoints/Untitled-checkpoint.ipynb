{
 "cells": [
  {
   "cell_type": "code",
   "execution_count": 2,
   "metadata": {},
   "outputs": [
    {
     "data": {
      "text/plain": [
       "True"
      ]
     },
     "execution_count": 2,
     "metadata": {},
     "output_type": "execute_result"
    }
   ],
   "source": [
    "import os\n",
    "\n",
    "m = None\n",
    "M_list = []\n",
    "T_list = []\n",
    "Forbid = []\n",
    "Tar = []\n",
    "\n",
    "def read():\n",
    "    if os.path.isfile('mapdata.txt') is False:\n",
    "        return False\n",
    "    global write_flag\n",
    "    write_flag = False\n",
    "    member = pre_write()\n",
    "    with open('mapdata.txt','r') as f:\n",
    "        words = f.readlines()\n",
    "        for word in words:\n",
    "            # split line to key(name of variable) and list data\n",
    "            word = word.strip('\\n').replace(' ','').split(':')\n",
    "            if word == ['']:\n",
    "                continue\n",
    "            key = word[0]\n",
    "            data = word[1].rstrip(']').lstrip('[') #take off the list part of data\n",
    "            # list of coord\n",
    "            if 'M_list'in key:\n",
    "                member[key] = []\n",
    "                for d in data.split(']]'):\n",
    "                    li = []\n",
    "                    d = d.lstrip(',[').replace('[','')\n",
    "                    point = d.replace('(','').rstrip(')').split('),')\n",
    "                    for x in point:\n",
    "                        x = x.split(',')\n",
    "                        li.append(list(map(int, x)))\n",
    "                    member[key].append(li)\n",
    "                continue\n",
    "            elif 'Forbid'in key :\n",
    "                member[key] = []\n",
    "            point = data.replace('(','').rstrip(')').split('),')\n",
    "            for x in point:\n",
    "                x = x.split(',')\n",
    "                member[key].append(list(map(int, x)))\n",
    "    pro_M_list_process(member)\n",
    "    return True\n",
    "\n",
    "\n",
    "def pro_M_list_process(member):\n",
    "    for k, v in member.items():\n",
    "        if 'M_list' in k:\n",
    "            li = []\n",
    "            for every_v in v :\n",
    "                target = every_v[0][0]\n",
    "                path = [[every_v[0][1],every_v[0][2]]]\n",
    "                path += every_v[1:]\n",
    "                li.append([target, path])\n",
    "            M_list.append(li)\n",
    "        elif 'Forbid' in k:\n",
    "            Forbid.append(v)\n",
    "            \n",
    "def pre_write():\n",
    "    point_member = ['T_list', 'Tar']\n",
    "    list_member = ['M_list', 'Forbid']\n",
    "    member = {}\n",
    "    for w in point_member:\n",
    "        member[w] = globals()[w]\n",
    "    # save\n",
    "    for l in list_member:\n",
    "        li = globals()[l]\n",
    "        for i in range(len(li)):\n",
    "            member['%s[%s]' %(l,i)] = li[i]\n",
    "    return member\n",
    "            \n",
    "read()\n",
    "print(M_list[0])\n"
   ]
  },
  {
   "cell_type": "code",
   "execution_count": null,
   "metadata": {},
   "outputs": [],
   "source": []
  }
 ],
 "metadata": {
  "kernelspec": {
   "display_name": "Python 3",
   "language": "python",
   "name": "python3"
  },
  "language_info": {
   "codemirror_mode": {
    "name": "ipython",
    "version": 3
   },
   "file_extension": ".py",
   "mimetype": "text/x-python",
   "name": "python",
   "nbconvert_exporter": "python",
   "pygments_lexer": "ipython3",
   "version": "3.7.1"
  }
 },
 "nbformat": 4,
 "nbformat_minor": 2
}
